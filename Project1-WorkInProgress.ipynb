{
 "cells": [
  {
   "cell_type": "code",
   "execution_count": null,
   "id": "b0b440a4-4ea3-4f1b-8033-3819d7849c83",
   "metadata": {},
   "outputs": [],
   "source": [
    "# Initial imports\n",
    "import os\n",
    "import requests\n",
    "import pandas as pd\n",
    "from dotenv import load_dotenv\n",
    "import alpaca_trade_api as tradeapi\n",
    "\n",
    "%matplotlib inline"
   ]
  },
  {
   "cell_type": "code",
   "execution_count": null,
   "id": "e57dfff2-db61-461f-9d36-c9629f9dde36",
   "metadata": {},
   "outputs": [],
   "source": [
    "# Load .env environment variables\n",
    "load_dotenv()"
   ]
  },
  {
   "cell_type": "code",
   "execution_count": null,
   "id": "e77e7f5e-34ad-42df-8306-200beaebb982",
   "metadata": {},
   "outputs": [],
   "source": [
    "# Set Alpaca API key and secret\n",
    "alpaca_api_key = os.getenv(\"ALPACA_API_KEY\")\n",
    "alpaca_secret_key = os.getenv(\"ALPACA_SECRET_KEY\")"
   ]
  },
  {
   "cell_type": "code",
   "execution_count": null,
   "id": "306797c9-dbcf-4eb8-afee-1c823036e1c0",
   "metadata": {},
   "outputs": [],
   "source": [
    "alpaca = tradeapi.REST(\n",
    "    alpaca_api_key,\n",
    "    alpaca_secret_key,\n",
    "    api_version=\"v2\")"
   ]
  },
  {
   "cell_type": "code",
   "execution_count": null,
   "id": "6552ae22-62bd-4394-87e3-a9401d05def4",
   "metadata": {},
   "outputs": [],
   "source": [
    "# Format current date as ISO format\n",
    "start_date = pd.Timestamp(\"2019-05-01\", tz=\"America/New_York\").isoformat()\n",
    "end_date = pd.Timestamp(\"2020-05-01\", tz=\"America/New_York\").isoformat()"
   ]
  },
  {
   "cell_type": "code",
   "execution_count": null,
   "id": "0b8f0d6f-0873-48fd-8ce1-c4eafb1b00db",
   "metadata": {},
   "outputs": [],
   "source": [
    "# Set timeframe to one day ('1D') for the Alpaca API\n",
    "timeframe = \"1D\"\n",
    "tickers = [\"AAPL\"]\n"
   ]
  },
  {
   "cell_type": "code",
   "execution_count": null,
   "id": "f2012949-7736-4cc9-bfa3-107368d6b821",
   "metadata": {},
   "outputs": [],
   "source": [
    "# Get current price data for MSFT and AAPL\n",
    "df_portfolio = alpaca.get_barset(\n",
    "    tickers,\n",
    "    timeframe,\n",
    "    start = start_date,\n",
    "    end = end_date\n",
    ").df\n",
    "\n",
    "# Display sample data\n",
    "df_portfolio"
   ]
  },
  {
   "cell_type": "code",
   "execution_count": null,
   "id": "d3a7869b-cf64-4a42-9d21-7d677e32020c",
   "metadata": {},
   "outputs": [],
   "source": [
    "# Create and empty DataFrame for closing prices\n",
    "df_closing_prices = pd.DataFrame()\n",
    "\n",
    "# Fetch the closing prices for all the tickers\n",
    "# YOUR CODE HERE!\n",
    "for ticker in tickers:\n",
    "    df_closing_prices[\"close\"] = \n",
    "\n",
    "# Drop the time component of the date\n",
    "df_closing_prices.index = df_closing_prices.index.date\n",
    "\n",
    "# Display sample data\n",
    "df_closing_prices.head()"
   ]
  }
 ],
 "metadata": {
  "kernelspec": {
   "display_name": "Python 3",
   "language": "python",
   "name": "python3"
  },
  "language_info": {
   "codemirror_mode": {
    "name": "ipython",
    "version": 3
   },
   "file_extension": ".py",
   "mimetype": "text/x-python",
   "name": "python",
   "nbconvert_exporter": "python",
   "pygments_lexer": "ipython3",
   "version": "3.7.10"
  }
 },
 "nbformat": 4,
 "nbformat_minor": 5
}
