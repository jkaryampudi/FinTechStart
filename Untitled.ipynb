{
 "cells": [
  {
   "cell_type": "code",
   "execution_count": 1,
   "id": "4c1d0ac8-4e48-43e1-a44d-bbe64658a383",
   "metadata": {},
   "outputs": [
    {
     "name": "stdout",
     "output_type": "stream",
     "text": [
      "Collecting pystan==2.19.1.1\n",
      "  Downloading pystan-2.19.1.1-cp38-cp38-win_amd64.whl (79.8 MB)\n",
      "Requirement already satisfied: Cython!=0.25.1,>=0.22 in c:\\users\\lumina\\anaconda3\\lib\\site-packages (from pystan==2.19.1.1) (0.29.24)\n",
      "Requirement already satisfied: numpy>=1.7 in c:\\users\\lumina\\anaconda3\\lib\\site-packages (from pystan==2.19.1.1) (1.21.2)\n",
      "Installing collected packages: pystan\n",
      "Successfully installed pystan-2.19.1.1\n"
     ]
    }
   ],
   "source": [
    "!pip install pystan==2.19.1.1"
   ]
  },
  {
   "cell_type": "code",
   "execution_count": 6,
   "id": "43b3c9ee-34ba-4363-8e36-42fc1d4f5b3e",
   "metadata": {},
   "outputs": [
    {
     "name": "stdout",
     "output_type": "stream",
     "text": [
      "Collecting prophet\n",
      "  Using cached prophet-1.0.1.tar.gz (65 kB)\n",
      "Requirement already satisfied: Cython>=0.22 in c:\\users\\lumina\\anaconda3\\lib\\site-packages (from prophet) (0.29.24)\n",
      "Requirement already satisfied: cmdstanpy==0.9.68 in c:\\users\\lumina\\anaconda3\\lib\\site-packages (from prophet) (0.9.68)\n",
      "Requirement already satisfied: pystan~=2.19.1.1 in c:\\users\\lumina\\anaconda3\\lib\\site-packages (from prophet) (2.19.1.1)\n",
      "Requirement already satisfied: numpy>=1.15.4 in c:\\users\\lumina\\anaconda3\\lib\\site-packages (from prophet) (1.21.2)\n",
      "Requirement already satisfied: pandas>=1.0.4 in c:\\users\\lumina\\anaconda3\\lib\\site-packages (from prophet) (1.3.3)\n",
      "Requirement already satisfied: matplotlib>=2.0.0 in c:\\users\\lumina\\anaconda3\\lib\\site-packages (from prophet) (3.4.3)\n",
      "Requirement already satisfied: LunarCalendar>=0.0.9 in c:\\users\\lumina\\anaconda3\\lib\\site-packages (from prophet) (0.0.9)\n",
      "Requirement already satisfied: convertdate>=2.1.2 in c:\\users\\lumina\\anaconda3\\lib\\site-packages (from prophet) (2.3.2)\n",
      "Requirement already satisfied: holidays>=0.10.2 in c:\\users\\lumina\\anaconda3\\lib\\site-packages (from prophet) (0.11.3.1)\n",
      "Requirement already satisfied: setuptools-git>=1.2 in c:\\users\\lumina\\anaconda3\\lib\\site-packages (from prophet) (1.2)\n",
      "Requirement already satisfied: python-dateutil>=2.8.0 in c:\\users\\lumina\\anaconda3\\lib\\site-packages (from prophet) (2.8.2)\n",
      "Requirement already satisfied: tqdm>=4.36.1 in c:\\users\\lumina\\anaconda3\\lib\\site-packages (from prophet) (4.62.3)\n",
      "Requirement already satisfied: ujson in c:\\users\\lumina\\anaconda3\\lib\\site-packages (from cmdstanpy==0.9.68->prophet) (4.0.2)\n",
      "Requirement already satisfied: pytz>=2014.10 in c:\\users\\lumina\\anaconda3\\lib\\site-packages (from convertdate>=2.1.2->prophet) (2021.3)\n",
      "Requirement already satisfied: pymeeus<=1,>=0.3.13 in c:\\users\\lumina\\anaconda3\\lib\\site-packages (from convertdate>=2.1.2->prophet) (0.5.11)\n",
      "Requirement already satisfied: korean-lunar-calendar in c:\\users\\lumina\\anaconda3\\lib\\site-packages (from holidays>=0.10.2->prophet) (0.2.1)\n",
      "Requirement already satisfied: hijri-converter in c:\\users\\lumina\\anaconda3\\lib\\site-packages (from holidays>=0.10.2->prophet) (2.2.2)\n",
      "Requirement already satisfied: ephem>=3.7.5.3 in c:\\users\\lumina\\anaconda3\\lib\\site-packages (from LunarCalendar>=0.0.9->prophet) (4.1)\n",
      "Requirement already satisfied: pillow>=6.2.0 in c:\\users\\lumina\\anaconda3\\lib\\site-packages (from matplotlib>=2.0.0->prophet) (8.4.0)\n",
      "Requirement already satisfied: kiwisolver>=1.0.1 in c:\\users\\lumina\\anaconda3\\lib\\site-packages (from matplotlib>=2.0.0->prophet) (1.3.1)\n",
      "Requirement already satisfied: pyparsing>=2.2.1 in c:\\users\\lumina\\anaconda3\\lib\\site-packages (from matplotlib>=2.0.0->prophet) (2.4.7)\n",
      "Requirement already satisfied: cycler>=0.10 in c:\\users\\lumina\\anaconda3\\lib\\site-packages (from matplotlib>=2.0.0->prophet) (0.10.0)\n",
      "Requirement already satisfied: six in c:\\users\\lumina\\anaconda3\\lib\\site-packages (from cycler>=0.10->matplotlib>=2.0.0->prophet) (1.16.0)\n"
     ]
    },
    {
     "name": "stderr",
     "output_type": "stream",
     "text": [
      "  ERROR: Command errored out with exit status 1:\n",
      "   command: 'C:\\Users\\Lumina\\anaconda3\\python.exe' -u -c 'import sys, setuptools, tokenize; sys.argv[0] = '\"'\"'C:\\\\Users\\\\Lumina\\\\AppData\\\\Local\\\\Temp\\\\pip-install-amgrxydt\\\\prophet_a4535036837c4501ba6ed3535901bd68\\\\setup.py'\"'\"'; __file__='\"'\"'C:\\\\Users\\\\Lumina\\\\AppData\\\\Local\\\\Temp\\\\pip-install-amgrxydt\\\\prophet_a4535036837c4501ba6ed3535901bd68\\\\setup.py'\"'\"';f=getattr(tokenize, '\"'\"'open'\"'\"', open)(__file__);code=f.read().replace('\"'\"'\\r\\n'\"'\"', '\"'\"'\\n'\"'\"');f.close();exec(compile(code, __file__, '\"'\"'exec'\"'\"'))' bdist_wheel -d 'C:\\Users\\Lumina\\AppData\\Local\\Temp\\pip-wheel-txk779m_'\n",
      "       cwd: C:\\Users\\Lumina\\AppData\\Local\\Temp\\pip-install-amgrxydt\\prophet_a4535036837c4501ba6ed3535901bd68\\\n",
      "  Complete output (10 lines):\n",
      "  running bdist_wheel\n",
      "  running build\n",
      "  running build_py\n",
      "  creating build\n",
      "  creating build\\lib\n",
      "  creating build\\lib\\prophet\n",
      "  creating build\\lib\\prophet\\stan_model\n",
      "  INFO:pystan:COMPILING THE C++ CODE FOR MODEL anon_model_f5236004a3fd5b8429270d00efcc0cf9 NOW.\n",
      "  WARNING:pystan:MSVC compiler is not supported\n",
      "  error: Microsoft Visual C++ 14.0 or greater is required. Get it with \"Microsoft C++ Build Tools\": https://visualstudio.microsoft.com/visual-cpp-build-tools/\n",
      "  ----------------------------------------\n",
      "  ERROR: Failed building wheel for prophet\n",
      "    ERROR: Command errored out with exit status 1:\n",
      "     command: 'C:\\Users\\Lumina\\anaconda3\\python.exe' -u -c 'import sys, setuptools, tokenize; sys.argv[0] = '\"'\"'C:\\\\Users\\\\Lumina\\\\AppData\\\\Local\\\\Temp\\\\pip-install-amgrxydt\\\\prophet_a4535036837c4501ba6ed3535901bd68\\\\setup.py'\"'\"'; __file__='\"'\"'C:\\\\Users\\\\Lumina\\\\AppData\\\\Local\\\\Temp\\\\pip-install-amgrxydt\\\\prophet_a4535036837c4501ba6ed3535901bd68\\\\setup.py'\"'\"';f=getattr(tokenize, '\"'\"'open'\"'\"', open)(__file__);code=f.read().replace('\"'\"'\\r\\n'\"'\"', '\"'\"'\\n'\"'\"');f.close();exec(compile(code, __file__, '\"'\"'exec'\"'\"'))' install --record 'C:\\Users\\Lumina\\AppData\\Local\\Temp\\pip-record-dzypi952\\install-record.txt' --single-version-externally-managed --compile --install-headers 'C:\\Users\\Lumina\\anaconda3\\Include\\prophet'\n",
      "         cwd: C:\\Users\\Lumina\\AppData\\Local\\Temp\\pip-install-amgrxydt\\prophet_a4535036837c4501ba6ed3535901bd68\\\n",
      "    Complete output (10 lines):\n",
      "    running install\n",
      "    running build\n",
      "    running build_py\n",
      "    creating build\n",
      "    creating build\\lib\n",
      "    creating build\\lib\\prophet\n",
      "    creating build\\lib\\prophet\\stan_model\n",
      "    INFO:pystan:COMPILING THE C++ CODE FOR MODEL anon_model_f5236004a3fd5b8429270d00efcc0cf9 NOW.\n",
      "    WARNING:pystan:MSVC compiler is not supported\n",
      "    error: Microsoft Visual C++ 14.0 or greater is required. Get it with \"Microsoft C++ Build Tools\": https://visualstudio.microsoft.com/visual-cpp-build-tools/\n",
      "    ----------------------------------------\n",
      "ERROR: Command errored out with exit status 1: 'C:\\Users\\Lumina\\anaconda3\\python.exe' -u -c 'import sys, setuptools, tokenize; sys.argv[0] = '\"'\"'C:\\\\Users\\\\Lumina\\\\AppData\\\\Local\\\\Temp\\\\pip-install-amgrxydt\\\\prophet_a4535036837c4501ba6ed3535901bd68\\\\setup.py'\"'\"'; __file__='\"'\"'C:\\\\Users\\\\Lumina\\\\AppData\\\\Local\\\\Temp\\\\pip-install-amgrxydt\\\\prophet_a4535036837c4501ba6ed3535901bd68\\\\setup.py'\"'\"';f=getattr(tokenize, '\"'\"'open'\"'\"', open)(__file__);code=f.read().replace('\"'\"'\\r\\n'\"'\"', '\"'\"'\\n'\"'\"');f.close();exec(compile(code, __file__, '\"'\"'exec'\"'\"'))' install --record 'C:\\Users\\Lumina\\AppData\\Local\\Temp\\pip-record-dzypi952\\install-record.txt' --single-version-externally-managed --compile --install-headers 'C:\\Users\\Lumina\\anaconda3\\Include\\prophet' Check the logs for full command output.\n"
     ]
    },
    {
     "name": "stdout",
     "output_type": "stream",
     "text": [
      "Requirement already satisfied: colorama in c:\\users\\lumina\\anaconda3\\lib\\site-packages (from tqdm>=4.36.1->prophet) (0.4.4)\n",
      "Building wheels for collected packages: prophet\n",
      "  Building wheel for prophet (setup.py): started\n",
      "  Building wheel for prophet (setup.py): finished with status 'error'\n",
      "  Running setup.py clean for prophet\n",
      "Failed to build prophet\n",
      "Installing collected packages: prophet\n",
      "    Running setup.py install for prophet: started\n",
      "    Running setup.py install for prophet: finished with status 'error'\n"
     ]
    }
   ],
   "source": [
    "!pip install prophet"
   ]
  },
  {
   "cell_type": "code",
   "execution_count": 3,
   "id": "7c90b206-a2e2-4f65-9b34-8f01dd3f1615",
   "metadata": {},
   "outputs": [
    {
     "name": "stdout",
     "output_type": "stream",
     "text": [
      "Collecting chart_studio\n",
      "  Downloading chart_studio-1.1.0-py3-none-any.whl (64 kB)\n",
      "Requirement already satisfied: requests in c:\\users\\lumina\\anaconda3\\lib\\site-packages (from chart_studio) (2.26.0)\n",
      "Requirement already satisfied: six in c:\\users\\lumina\\anaconda3\\lib\\site-packages (from chart_studio) (1.16.0)\n",
      "Collecting plotly\n",
      "  Downloading plotly-5.4.0-py2.py3-none-any.whl (25.3 MB)\n",
      "Collecting retrying>=1.3.3\n",
      "  Downloading retrying-1.3.3.tar.gz (10 kB)\n",
      "Collecting tenacity>=6.2.0\n",
      "  Downloading tenacity-8.0.1-py3-none-any.whl (24 kB)\n",
      "Requirement already satisfied: idna<4,>=2.5 in c:\\users\\lumina\\anaconda3\\lib\\site-packages (from requests->chart_studio) (3.2)\n",
      "Requirement already satisfied: charset-normalizer~=2.0.0 in c:\\users\\lumina\\anaconda3\\lib\\site-packages (from requests->chart_studio) (2.0.4)\n",
      "Requirement already satisfied: urllib3<1.27,>=1.21.1 in c:\\users\\lumina\\anaconda3\\lib\\site-packages (from requests->chart_studio) (1.26.7)\n",
      "Requirement already satisfied: certifi>=2017.4.17 in c:\\users\\lumina\\anaconda3\\lib\\site-packages (from requests->chart_studio) (2020.6.20)\n",
      "Building wheels for collected packages: retrying\n",
      "  Building wheel for retrying (setup.py): started\n",
      "  Building wheel for retrying (setup.py): finished with status 'done'\n",
      "  Created wheel for retrying: filename=retrying-1.3.3-py3-none-any.whl size=11448 sha256=b53602ce89e47ddd083304a26d186513eee4dab147fe12e24266342774c0af6a\n",
      "  Stored in directory: c:\\users\\lumina\\appdata\\local\\pip\\cache\\wheels\\c4\\a7\\48\\0a434133f6d56e878ca511c0e6c38326907c0792f67b476e56\n",
      "Successfully built retrying\n",
      "Installing collected packages: tenacity, retrying, plotly, chart-studio\n",
      "Successfully installed chart-studio-1.1.0 plotly-5.4.0 retrying-1.3.3 tenacity-8.0.1\n"
     ]
    }
   ],
   "source": [
    "!pip install chart_studio"
   ]
  },
  {
   "cell_type": "code",
   "execution_count": 5,
   "id": "e2d17cb7-9e0e-4dd0-a871-b40919eda7d9",
   "metadata": {},
   "outputs": [
    {
     "name": "stdout",
     "output_type": "stream",
     "text": [
      "Requirement already satisfied: plotly in c:\\users\\lumina\\anaconda3\\lib\\site-packages (5.4.0)\n",
      "Requirement already satisfied: six in c:\\users\\lumina\\anaconda3\\lib\\site-packages (from plotly) (1.16.0)\n",
      "Requirement already satisfied: tenacity>=6.2.0 in c:\\users\\lumina\\anaconda3\\lib\\site-packages (from plotly) (8.0.1)\n"
     ]
    }
   ],
   "source": [
    "!pip install plotly --upgrade"
   ]
  },
  {
   "cell_type": "code",
   "execution_count": null,
   "id": "8c7f6032-a914-4b4e-947b-115ef0e6f41a",
   "metadata": {},
   "outputs": [],
   "source": []
  }
 ],
 "metadata": {
  "kernelspec": {
   "display_name": "Python 3 (ipykernel)",
   "language": "python",
   "name": "python3"
  },
  "language_info": {
   "codemirror_mode": {
    "name": "ipython",
    "version": 3
   },
   "file_extension": ".py",
   "mimetype": "text/x-python",
   "name": "python",
   "nbconvert_exporter": "python",
   "pygments_lexer": "ipython3",
   "version": "3.8.8"
  }
 },
 "nbformat": 4,
 "nbformat_minor": 5
}
